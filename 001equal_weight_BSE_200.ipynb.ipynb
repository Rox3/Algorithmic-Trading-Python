{
 "cells": [
  {
   "cell_type": "markdown",
   "metadata": {},
   "source": [
    "# Equal-Weight BSE 200 Index Fund\n",
    "\n",
    "**Introduction & Library Imports**\n",
    "\n",
    "The BSE200 is the india's pular stock market index. \n",
    "\n",
    "The goal of this section of the course is to create a Python script that will accept the value of your portfolio and tell you how many shares of each BSE200 constituent you should purchase to get an equal-weight version of the index fund.\n",
    "\n",
    "**Library Imports**\n",
    "\n",
    "The first thing we need to do is import the open-source software libraries that we'll be using in this tutorial."
   ]
  },
  {
   "cell_type": "code",
   "execution_count": 1,
   "metadata": {},
   "outputs": [],
   "source": [
    "import numpy as np\n",
    "import pandas as pd\n",
    "import requests\n",
    "import xlsxwriter\n",
    "import math"
   ]
  },
  {
   "cell_type": "markdown",
   "metadata": {},
   "source": [
    "# Importing Our List of Stocks\n",
    "The next thing we need to do is import the constituents of the BSE200.\n",
    "Now it's time to import these stocks to our Jupyter Notebook file."
   ]
  },
  {
   "cell_type": "code",
   "execution_count": 2,
   "metadata": {},
   "outputs": [
    {
     "data": {
      "text/html": [
       "<div>\n",
       "<style scoped>\n",
       "    .dataframe tbody tr th:only-of-type {\n",
       "        vertical-align: middle;\n",
       "    }\n",
       "\n",
       "    .dataframe tbody tr th {\n",
       "        vertical-align: top;\n",
       "    }\n",
       "\n",
       "    .dataframe thead th {\n",
       "        text-align: right;\n",
       "    }\n",
       "</style>\n",
       "<table border=\"1\" class=\"dataframe\">\n",
       "  <thead>\n",
       "    <tr style=\"text-align: right;\">\n",
       "      <th></th>\n",
       "      <th>Symbol</th>\n",
       "    </tr>\n",
       "  </thead>\n",
       "  <tbody>\n",
       "    <tr>\n",
       "      <td>0</td>\n",
       "      <td>500325-IB</td>\n",
       "    </tr>\n",
       "    <tr>\n",
       "      <td>1</td>\n",
       "      <td>532540-IB</td>\n",
       "    </tr>\n",
       "    <tr>\n",
       "      <td>2</td>\n",
       "      <td>500180-IB</td>\n",
       "    </tr>\n",
       "    <tr>\n",
       "      <td>3</td>\n",
       "      <td>500209-IB</td>\n",
       "    </tr>\n",
       "    <tr>\n",
       "      <td>4</td>\n",
       "      <td>500696-IB</td>\n",
       "    </tr>\n",
       "    <tr>\n",
       "      <td>...</td>\n",
       "      <td>...</td>\n",
       "    </tr>\n",
       "    <tr>\n",
       "      <td>195</td>\n",
       "      <td>500260-IB</td>\n",
       "    </tr>\n",
       "    <tr>\n",
       "      <td>196</td>\n",
       "      <td>532149-IB</td>\n",
       "    </tr>\n",
       "    <tr>\n",
       "      <td>197</td>\n",
       "      <td>506395-IB</td>\n",
       "    </tr>\n",
       "    <tr>\n",
       "      <td>198</td>\n",
       "      <td>532754-IB</td>\n",
       "    </tr>\n",
       "    <tr>\n",
       "      <td>199</td>\n",
       "      <td>506285-IB</td>\n",
       "    </tr>\n",
       "  </tbody>\n",
       "</table>\n",
       "<p>200 rows × 1 columns</p>\n",
       "</div>"
      ],
      "text/plain": [
       "        Symbol\n",
       "0    500325-IB\n",
       "1    532540-IB\n",
       "2    500180-IB\n",
       "3    500209-IB\n",
       "4    500696-IB\n",
       "..         ...\n",
       "195  500260-IB\n",
       "196  532149-IB\n",
       "197  506395-IB\n",
       "198  532754-IB\n",
       "199  506285-IB\n",
       "\n",
       "[200 rows x 1 columns]"
      ]
     },
     "execution_count": 2,
     "metadata": {},
     "output_type": "execute_result"
    }
   ],
   "source": [
    "stocks=pd.read_excel('BSE200.xlsx') \n",
    "stocks"
   ]
  },
  {
   "cell_type": "markdown",
   "metadata": {},
   "source": [
    "# Acquiring an API Token\n",
    "Now it's time to import our IEX Cloud API token. This is the data provider that we will be using throughout this course.\n",
    "API tokens (and other sensitive information) should be stored in a secrets.py file that doesn't get pushed to your local Git repository. We'll be using a sandbox API token in this course, which means that the data we'll use is randomly-generated and (more importantly) has no cost associated with it.\n",
    "\n",
    "{IEX_CLOUD_API_TOKEN = 'Tpk_059b97af715d417d9f49f50b51b1c448'} save as your secrets.py file. Move the file into the same directory as this Jupyter Notebook before proceeding."
   ]
  },
  {
   "cell_type": "code",
   "execution_count": 3,
   "metadata": {},
   "outputs": [],
   "source": [
    "from secrets import IEX_CLOUD_API_TOKEN"
   ]
  },
  {
   "cell_type": "markdown",
   "metadata": {},
   "source": [
    "# Making Our First API Call\n",
    "Now it's time to structure our API calls to IEX cloud.\n",
    "\n",
    "We need the following information from the API:\n",
    "\n",
    "Market capitalization for each stock\n",
    "Price of each stock"
   ]
  },
  {
   "cell_type": "code",
   "execution_count": 4,
   "metadata": {},
   "outputs": [
    {
     "name": "stdout",
     "output_type": "stream",
     "text": [
      "{'avgTotalVolume': 692716, 'calculationPrice': 'close', 'change': 33.31, 'changePercent': 0.01416, 'close': 0, 'closeSource': 'facfioil', 'closeTime': None, 'companyName': 'Reliance Industries Ltd.', 'currency': 'INR', 'delayedPrice': None, 'delayedPriceTime': None, 'extendedChange': None, 'extendedChangePercent': None, 'extendedPrice': None, 'extendedPriceTime': None, 'high': 0, 'highSource': 'esCol', 'highTime': 1692073112097, 'iexAskPrice': None, 'iexAskSize': None, 'iexBidPrice': None, 'iexBidSize': None, 'iexClose': None, 'iexCloseTime': None, 'iexLastUpdated': None, 'iexMarketPercent': None, 'iexOpen': None, 'iexOpenTime': None, 'iexRealtimePrice': None, 'iexRealtimeSize': None, 'iexVolume': None, 'lastTradeTime': None, 'latestPrice': 2544.8, 'latestSource': 'Close', 'latestTime': 'February 17, 2022', 'latestUpdate': 1689115263121, 'latestVolume': None, 'low': 0, 'lowSource': 'osCel', 'lowTime': 1691115244541, 'marketCap': 17087132045972, 'oddLotDelayedPrice': None, 'oddLotDelayedPriceTime': None, 'open': 0, 'openTime': None, 'openSource': 'ciflioaf', 'peRatio': None, 'previousClose': 2473.23, 'previousVolume': 253048, 'primaryExchange': 'ESB DLT', 'symbol': '500325-IB', 'volume': None, 'week52High': 2886, 'week52Low': 1964.75, 'ytdChange': 0.04751892633026253, 'isUSMarketOpen': False}\n"
     ]
    }
   ],
   "source": [
    "symbol= '500325-IB'\n",
    "api_url=f'https://sandbox.iexapis.com/stable/stock/{symbol}/quote/?token={IEX_CLOUD_API_TOKEN}'\n",
    "data=requests.get(api_url).json()\n",
    "print(data)"
   ]
  },
  {
   "cell_type": "markdown",
   "metadata": {},
   "source": [
    "# Parsing Our API Call\n",
    "The API call that we executed in the last code block contains all of the information required to build our equal-weight BSE200 strategy.\n",
    "\n",
    "With that said, the data isn't in a proper format yet. We need to parse it first."
   ]
  },
  {
   "cell_type": "code",
   "execution_count": 5,
   "metadata": {},
   "outputs": [],
   "source": [
    "price=data['latestPrice']\n",
    "market_cap=data['marketCap']\n",
    "#market_cap/1e12 to calculate market_cap per trillion"
   ]
  },
  {
   "cell_type": "markdown",
   "metadata": {},
   "source": [
    "# Adding Our Stocks Data to a Pandas DataFrame\n",
    "The next thing we need to do is add our stock's price and market capitalization to a pandas DataFrame. Think of a DataFrame like the Python version of a spreadsheet. It stores tabular data."
   ]
  },
  {
   "cell_type": "code",
   "execution_count": 6,
   "metadata": {},
   "outputs": [
    {
     "data": {
      "text/html": [
       "<div>\n",
       "<style scoped>\n",
       "    .dataframe tbody tr th:only-of-type {\n",
       "        vertical-align: middle;\n",
       "    }\n",
       "\n",
       "    .dataframe tbody tr th {\n",
       "        vertical-align: top;\n",
       "    }\n",
       "\n",
       "    .dataframe thead th {\n",
       "        text-align: right;\n",
       "    }\n",
       "</style>\n",
       "<table border=\"1\" class=\"dataframe\">\n",
       "  <thead>\n",
       "    <tr style=\"text-align: right;\">\n",
       "      <th></th>\n",
       "      <th>Ticker</th>\n",
       "      <th>Stock Price</th>\n",
       "      <th>Market Captalization</th>\n",
       "      <th>Number of shares to BUY</th>\n",
       "    </tr>\n",
       "  </thead>\n",
       "  <tbody>\n",
       "  </tbody>\n",
       "</table>\n",
       "</div>"
      ],
      "text/plain": [
       "Empty DataFrame\n",
       "Columns: [Ticker, Stock Price, Market Captalization, Number of shares to BUY]\n",
       "Index: []"
      ]
     },
     "execution_count": 6,
     "metadata": {},
     "output_type": "execute_result"
    }
   ],
   "source": [
    "my_columns=['Ticker','Stock Price','Market Captalization','Number of shares to BUY']\n",
    "final_datafreame=pd.DataFrame(columns=my_columns)\n",
    "final_datafreame"
   ]
  },
  {
   "cell_type": "code",
   "execution_count": 7,
   "metadata": {},
   "outputs": [
    {
     "data": {
      "text/html": [
       "<div>\n",
       "<style scoped>\n",
       "    .dataframe tbody tr th:only-of-type {\n",
       "        vertical-align: middle;\n",
       "    }\n",
       "\n",
       "    .dataframe tbody tr th {\n",
       "        vertical-align: top;\n",
       "    }\n",
       "\n",
       "    .dataframe thead th {\n",
       "        text-align: right;\n",
       "    }\n",
       "</style>\n",
       "<table border=\"1\" class=\"dataframe\">\n",
       "  <thead>\n",
       "    <tr style=\"text-align: right;\">\n",
       "      <th></th>\n",
       "      <th>Ticker</th>\n",
       "      <th>Stock Price</th>\n",
       "      <th>Market Captalization</th>\n",
       "      <th>Number of shares to BUY</th>\n",
       "    </tr>\n",
       "  </thead>\n",
       "  <tbody>\n",
       "    <tr>\n",
       "      <td>0</td>\n",
       "      <td>500325-IB</td>\n",
       "      <td>2544.8</td>\n",
       "      <td>17087132045972</td>\n",
       "      <td>N/A</td>\n",
       "    </tr>\n",
       "  </tbody>\n",
       "</table>\n",
       "</div>"
      ],
      "text/plain": [
       "      Ticker  Stock Price Market Captalization Number of shares to BUY\n",
       "0  500325-IB       2544.8       17087132045972                     N/A"
      ]
     },
     "execution_count": 7,
     "metadata": {},
     "output_type": "execute_result"
    }
   ],
   "source": [
    "final_datafreame.append(\n",
    "    pd.Series(\n",
    "    [\n",
    "        symbol,\n",
    "        price,\n",
    "        market_cap,\n",
    "        'N/A'\n",
    "        \n",
    "    ],\n",
    "        index =my_columns\n",
    "        #tells which columns this data should be added\n",
    "    ),\n",
    "    ignore_index=True\n",
    "\n",
    ")"
   ]
  },
  {
   "cell_type": "markdown",
   "metadata": {},
   "source": [
    "# Looping Through The Tickers in Our List of Stocks\n",
    "Using the same logic that we outlined above, we can pull data for all BSE200 stocks and store their data in the DataFrame using a for loop."
   ]
  },
  {
   "cell_type": "code",
   "execution_count": 8,
   "metadata": {},
   "outputs": [],
   "source": [
    "final_dataframe=pd.DataFrame(columns=my_columns)\n",
    "for stock in stocks['Symbol'][:5]:\n",
    "    api_url=f'https://sandbox.iexapis.com/stable/stock/{stock}/quote/?token={IEX_CLOUD_API_TOKEN}'\n",
    "    data=requests.get(api_url).json()\n",
    "    final_dataframe=final_dataframe.append(\n",
    "        pd.Series(\n",
    "        [\n",
    "            stock,\n",
    "            data['latestPrice'],\n",
    "            data['marketCap'],\n",
    "            'N/A'\n",
    "        ],\n",
    "            index=my_columns\n",
    "        ),\n",
    "        ignore_index=True\n",
    "    )"
   ]
  },
  {
   "cell_type": "code",
   "execution_count": 9,
   "metadata": {},
   "outputs": [
    {
     "data": {
      "text/html": [
       "<div>\n",
       "<style scoped>\n",
       "    .dataframe tbody tr th:only-of-type {\n",
       "        vertical-align: middle;\n",
       "    }\n",
       "\n",
       "    .dataframe tbody tr th {\n",
       "        vertical-align: top;\n",
       "    }\n",
       "\n",
       "    .dataframe thead th {\n",
       "        text-align: right;\n",
       "    }\n",
       "</style>\n",
       "<table border=\"1\" class=\"dataframe\">\n",
       "  <thead>\n",
       "    <tr style=\"text-align: right;\">\n",
       "      <th></th>\n",
       "      <th>Ticker</th>\n",
       "      <th>Stock Price</th>\n",
       "      <th>Market Captalization</th>\n",
       "      <th>Number of shares to BUY</th>\n",
       "    </tr>\n",
       "  </thead>\n",
       "  <tbody>\n",
       "    <tr>\n",
       "      <td>0</td>\n",
       "      <td>500325-IB</td>\n",
       "      <td>2538.20</td>\n",
       "      <td>16627491919606</td>\n",
       "      <td>N/A</td>\n",
       "    </tr>\n",
       "    <tr>\n",
       "      <td>1</td>\n",
       "      <td>532540-IB</td>\n",
       "      <td>3888.07</td>\n",
       "      <td>14386621530393</td>\n",
       "      <td>N/A</td>\n",
       "    </tr>\n",
       "    <tr>\n",
       "      <td>2</td>\n",
       "      <td>500180-IB</td>\n",
       "      <td>1550.50</td>\n",
       "      <td>8544719530737</td>\n",
       "      <td>N/A</td>\n",
       "    </tr>\n",
       "    <tr>\n",
       "      <td>3</td>\n",
       "      <td>500209-IB</td>\n",
       "      <td>1754.80</td>\n",
       "      <td>7437348154305</td>\n",
       "      <td>N/A</td>\n",
       "    </tr>\n",
       "    <tr>\n",
       "      <td>4</td>\n",
       "      <td>500696-IB</td>\n",
       "      <td>2413.40</td>\n",
       "      <td>5426295985755</td>\n",
       "      <td>N/A</td>\n",
       "    </tr>\n",
       "  </tbody>\n",
       "</table>\n",
       "</div>"
      ],
      "text/plain": [
       "      Ticker  Stock Price Market Captalization Number of shares to BUY\n",
       "0  500325-IB      2538.20       16627491919606                     N/A\n",
       "1  532540-IB      3888.07       14386621530393                     N/A\n",
       "2  500180-IB      1550.50        8544719530737                     N/A\n",
       "3  500209-IB      1754.80        7437348154305                     N/A\n",
       "4  500696-IB      2413.40        5426295985755                     N/A"
      ]
     },
     "execution_count": 9,
     "metadata": {},
     "output_type": "execute_result"
    }
   ],
   "source": [
    "final_dataframe"
   ]
  },
  {
   "cell_type": "markdown",
   "metadata": {},
   "source": [
    "# Using Batch API Calls to Improve Performance\n",
    "Batch API calls are one of the easiest ways to improve the performance of your code.\n",
    "\n",
    "This is because HTTP requests are typically one of the slowest components of a script.\n",
    "\n",
    "Also, API providers will often give you discounted rates for using batch API calls since they are easier for the API provider to respond to.\n",
    "\n",
    "IEX Cloud limits their batch API calls to 100 tickers per request. Still, this reduces the number of API calls we'll make in this section from 200 to 2 - huge improvement! In this section, we'll split our list of stocks into groups of 100 and then make a batch API call for each group."
   ]
  },
  {
   "cell_type": "code",
   "execution_count": 10,
   "metadata": {},
   "outputs": [],
   "source": [
    "# Function sourced from \n",
    "# https://stackoverflow.com/questions/312443/how-do-you-split-a-list-into-evenly-sized-chunks\n",
    "def chunks(lst, n):\n",
    "    \"\"\"Yield successive n-sized chunks from lst.\"\"\"\n",
    "    for i in range(0, len(lst), n):\n",
    "        yield lst[i:i + n]"
   ]
  },
  {
   "cell_type": "code",
   "execution_count": 11,
   "metadata": {},
   "outputs": [
    {
     "data": {
      "text/html": [
       "<div>\n",
       "<style scoped>\n",
       "    .dataframe tbody tr th:only-of-type {\n",
       "        vertical-align: middle;\n",
       "    }\n",
       "\n",
       "    .dataframe tbody tr th {\n",
       "        vertical-align: top;\n",
       "    }\n",
       "\n",
       "    .dataframe thead th {\n",
       "        text-align: right;\n",
       "    }\n",
       "</style>\n",
       "<table border=\"1\" class=\"dataframe\">\n",
       "  <thead>\n",
       "    <tr style=\"text-align: right;\">\n",
       "      <th></th>\n",
       "      <th>Ticker</th>\n",
       "      <th>Stock Price</th>\n",
       "      <th>Market Captalization</th>\n",
       "      <th>Number of shares to BUY</th>\n",
       "    </tr>\n",
       "  </thead>\n",
       "  <tbody>\n",
       "    <tr>\n",
       "      <td>0</td>\n",
       "      <td>500325-IB</td>\n",
       "      <td>2522.90</td>\n",
       "      <td>16748312120177</td>\n",
       "      <td>N/A</td>\n",
       "    </tr>\n",
       "    <tr>\n",
       "      <td>1</td>\n",
       "      <td>532540-IB</td>\n",
       "      <td>3897.38</td>\n",
       "      <td>14366876238353</td>\n",
       "      <td>N/A</td>\n",
       "    </tr>\n",
       "    <tr>\n",
       "      <td>2</td>\n",
       "      <td>500180-IB</td>\n",
       "      <td>1517.40</td>\n",
       "      <td>8488685969763</td>\n",
       "      <td>N/A</td>\n",
       "    </tr>\n",
       "    <tr>\n",
       "      <td>3</td>\n",
       "      <td>500209-IB</td>\n",
       "      <td>1740.61</td>\n",
       "      <td>7289498023146</td>\n",
       "      <td>N/A</td>\n",
       "    </tr>\n",
       "    <tr>\n",
       "      <td>4</td>\n",
       "      <td>500696-IB</td>\n",
       "      <td>2328.00</td>\n",
       "      <td>5497664435562</td>\n",
       "      <td>N/A</td>\n",
       "    </tr>\n",
       "    <tr>\n",
       "      <td>...</td>\n",
       "      <td>...</td>\n",
       "      <td>...</td>\n",
       "      <td>...</td>\n",
       "      <td>...</td>\n",
       "    </tr>\n",
       "    <tr>\n",
       "      <td>195</td>\n",
       "      <td>500260-IB</td>\n",
       "      <td>894.68</td>\n",
       "      <td>207425317624</td>\n",
       "      <td>N/A</td>\n",
       "    </tr>\n",
       "    <tr>\n",
       "      <td>196</td>\n",
       "      <td>532149-IB</td>\n",
       "      <td>54.70</td>\n",
       "      <td>220613467431</td>\n",
       "      <td>N/A</td>\n",
       "    </tr>\n",
       "    <tr>\n",
       "      <td>197</td>\n",
       "      <td>506395-IB</td>\n",
       "      <td>818.80</td>\n",
       "      <td>235391108284</td>\n",
       "      <td>N/A</td>\n",
       "    </tr>\n",
       "    <tr>\n",
       "      <td>198</td>\n",
       "      <td>532754-IB</td>\n",
       "      <td>42.20</td>\n",
       "      <td>246247486314</td>\n",
       "      <td>N/A</td>\n",
       "    </tr>\n",
       "    <tr>\n",
       "      <td>199</td>\n",
       "      <td>506285-IB</td>\n",
       "      <td>4710.26</td>\n",
       "      <td>210641208084</td>\n",
       "      <td>N/A</td>\n",
       "    </tr>\n",
       "  </tbody>\n",
       "</table>\n",
       "<p>200 rows × 4 columns</p>\n",
       "</div>"
      ],
      "text/plain": [
       "        Ticker  Stock Price Market Captalization Number of shares to BUY\n",
       "0    500325-IB      2522.90       16748312120177                     N/A\n",
       "1    532540-IB      3897.38       14366876238353                     N/A\n",
       "2    500180-IB      1517.40        8488685969763                     N/A\n",
       "3    500209-IB      1740.61        7289498023146                     N/A\n",
       "4    500696-IB      2328.00        5497664435562                     N/A\n",
       "..         ...          ...                  ...                     ...\n",
       "195  500260-IB       894.68         207425317624                     N/A\n",
       "196  532149-IB        54.70         220613467431                     N/A\n",
       "197  506395-IB       818.80         235391108284                     N/A\n",
       "198  532754-IB        42.20         246247486314                     N/A\n",
       "199  506285-IB      4710.26         210641208084                     N/A\n",
       "\n",
       "[200 rows x 4 columns]"
      ]
     },
     "execution_count": 11,
     "metadata": {},
     "output_type": "execute_result"
    }
   ],
   "source": [
    "symbol_groups = list(chunks(stocks['Symbol'], 50))\n",
    "symbol_strings = []\n",
    "for i in range(0, len(symbol_groups)):\n",
    "    symbol_strings.append(','.join(symbol_groups[i]))\n",
    "#     print(symbol_strings[i])\n",
    "\n",
    "final_dataframe = pd.DataFrame(columns = my_columns)\n",
    "\n",
    "for symbol_string in symbol_strings:\n",
    "#     print(symbol_strings)\n",
    "    batch_api_call_url = f'https://sandbox.iexapis.com/stable/stock/market/batch/?types=quote&symbols={symbol_string}&token={IEX_CLOUD_API_TOKEN}'\n",
    "    data = requests.get(batch_api_call_url).json()\n",
    "    for symbol in symbol_string.split(','):\n",
    "        final_dataframe = final_dataframe.append(\n",
    "                                        pd.Series(\n",
    "                                            [      symbol, \n",
    "                                                   data[symbol]['quote']['latestPrice'], \n",
    "                                                   data[symbol]['quote']['marketCap'], \n",
    "                                                   'N/A'\n",
    "                                            ], \n",
    "                                                  index = my_columns\n",
    "                                        ), \n",
    "                                        ignore_index = True)\n",
    "        \n",
    "    \n",
    "final_dataframe"
   ]
  },
  {
   "cell_type": "markdown",
   "metadata": {},
   "source": [
    "# Calculating the Number of Shares to Buy\n",
    "As you can see in the DataFrame above, we stil haven't calculated the number of shares of each stock to buy.\n",
    "\n",
    "We'll do that next."
   ]
  },
  {
   "cell_type": "code",
   "execution_count": 12,
   "metadata": {},
   "outputs": [
    {
     "name": "stdout",
     "output_type": "stream",
     "text": [
      "Enter the value of your portfolio:100000000\n"
     ]
    }
   ],
   "source": [
    "portfolio_size = input(\"Enter the value of your portfolio:\")\n",
    "\n",
    "try:\n",
    "    val = float(portfolio_size)\n",
    "except ValueError:\n",
    "    print(\"That's not a number! \\n Try again:\")\n",
    "    portfolio_size = input(\"Enter the value of your portfolio:\")"
   ]
  },
  {
   "cell_type": "code",
   "execution_count": 16,
   "metadata": {},
   "outputs": [
    {
     "data": {
      "text/html": [
       "<div>\n",
       "<style scoped>\n",
       "    .dataframe tbody tr th:only-of-type {\n",
       "        vertical-align: middle;\n",
       "    }\n",
       "\n",
       "    .dataframe tbody tr th {\n",
       "        vertical-align: top;\n",
       "    }\n",
       "\n",
       "    .dataframe thead th {\n",
       "        text-align: right;\n",
       "    }\n",
       "</style>\n",
       "<table border=\"1\" class=\"dataframe\">\n",
       "  <thead>\n",
       "    <tr style=\"text-align: right;\">\n",
       "      <th></th>\n",
       "      <th>Ticker</th>\n",
       "      <th>Stock Price</th>\n",
       "      <th>Market Captalization</th>\n",
       "      <th>Number of shares to BUY</th>\n",
       "    </tr>\n",
       "  </thead>\n",
       "  <tbody>\n",
       "    <tr>\n",
       "      <td>0</td>\n",
       "      <td>500325-IB</td>\n",
       "      <td>2522.90</td>\n",
       "      <td>16748312120177</td>\n",
       "      <td>198</td>\n",
       "    </tr>\n",
       "    <tr>\n",
       "      <td>1</td>\n",
       "      <td>532540-IB</td>\n",
       "      <td>3897.38</td>\n",
       "      <td>14366876238353</td>\n",
       "      <td>128</td>\n",
       "    </tr>\n",
       "    <tr>\n",
       "      <td>2</td>\n",
       "      <td>500180-IB</td>\n",
       "      <td>1517.40</td>\n",
       "      <td>8488685969763</td>\n",
       "      <td>329</td>\n",
       "    </tr>\n",
       "    <tr>\n",
       "      <td>3</td>\n",
       "      <td>500209-IB</td>\n",
       "      <td>1740.61</td>\n",
       "      <td>7289498023146</td>\n",
       "      <td>287</td>\n",
       "    </tr>\n",
       "    <tr>\n",
       "      <td>4</td>\n",
       "      <td>500696-IB</td>\n",
       "      <td>2328.00</td>\n",
       "      <td>5497664435562</td>\n",
       "      <td>214</td>\n",
       "    </tr>\n",
       "    <tr>\n",
       "      <td>...</td>\n",
       "      <td>...</td>\n",
       "      <td>...</td>\n",
       "      <td>...</td>\n",
       "      <td>...</td>\n",
       "    </tr>\n",
       "    <tr>\n",
       "      <td>195</td>\n",
       "      <td>500260-IB</td>\n",
       "      <td>894.68</td>\n",
       "      <td>207425317624</td>\n",
       "      <td>558</td>\n",
       "    </tr>\n",
       "    <tr>\n",
       "      <td>196</td>\n",
       "      <td>532149-IB</td>\n",
       "      <td>54.70</td>\n",
       "      <td>220613467431</td>\n",
       "      <td>9140</td>\n",
       "    </tr>\n",
       "    <tr>\n",
       "      <td>197</td>\n",
       "      <td>506395-IB</td>\n",
       "      <td>818.80</td>\n",
       "      <td>235391108284</td>\n",
       "      <td>610</td>\n",
       "    </tr>\n",
       "    <tr>\n",
       "      <td>198</td>\n",
       "      <td>532754-IB</td>\n",
       "      <td>42.20</td>\n",
       "      <td>246247486314</td>\n",
       "      <td>11848</td>\n",
       "    </tr>\n",
       "    <tr>\n",
       "      <td>199</td>\n",
       "      <td>506285-IB</td>\n",
       "      <td>4710.26</td>\n",
       "      <td>210641208084</td>\n",
       "      <td>106</td>\n",
       "    </tr>\n",
       "  </tbody>\n",
       "</table>\n",
       "<p>200 rows × 4 columns</p>\n",
       "</div>"
      ],
      "text/plain": [
       "        Ticker  Stock Price Market Captalization  Number of shares to BUY\n",
       "0    500325-IB      2522.90       16748312120177                      198\n",
       "1    532540-IB      3897.38       14366876238353                      128\n",
       "2    500180-IB      1517.40        8488685969763                      329\n",
       "3    500209-IB      1740.61        7289498023146                      287\n",
       "4    500696-IB      2328.00        5497664435562                      214\n",
       "..         ...          ...                  ...                      ...\n",
       "195  500260-IB       894.68         207425317624                      558\n",
       "196  532149-IB        54.70         220613467431                     9140\n",
       "197  506395-IB       818.80         235391108284                      610\n",
       "198  532754-IB        42.20         246247486314                    11848\n",
       "199  506285-IB      4710.26         210641208084                      106\n",
       "\n",
       "[200 rows x 4 columns]"
      ]
     },
     "execution_count": 16,
     "metadata": {},
     "output_type": "execute_result"
    }
   ],
   "source": [
    "position_size = val/ len(final_dataframe.index)\n",
    "for i in range(0, len(final_dataframe['Ticker'])):\n",
    "    final_dataframe.loc[i,'Number of shares to BUY']=math.floor(position_size/final_dataframe.loc[i,'Stock Price'])\n",
    "\n",
    "final_dataframe"
   ]
  },
  {
   "cell_type": "markdown",
   "metadata": {},
   "source": [
    "# Formatting Our Excel Output\n",
    "We will be using the XlsxWriter library for Python to create nicely-formatted Excel files.\n",
    "\n",
    "XlsxWriter is an excellent package and offers tons of customization. However, the tradeoff for this is that the library can seem very complicated to new users. Accordingly, this section will be fairly long because I want to do a good job of explaining how XlsxWriter works.\n",
    "\n",
    "**Initializing our XlsxWriter Object**"
   ]
  },
  {
   "cell_type": "code",
   "execution_count": 22,
   "metadata": {},
   "outputs": [],
   "source": [
    "writer = pd.ExcelWriter('recommended_trades.xlsx', engine='xlsxwriter')\n",
    "final_dataframe.to_excel(writer, sheet_name='Recommended Trades', index = False)"
   ]
  },
  {
   "cell_type": "markdown",
   "metadata": {},
   "source": [
    "# **Creating the Formats We'll Need For Our .xlsx File**\n",
    "\n",
    "Formats include colors, fonts, and also symbols like % and $. We'll need four main formats for our Excel document:\n",
    "\n",
    "\n",
    "//String format for tickers\n",
    "\n",
    "//INR XX.XX format for stock prices\n",
    "\n",
    "//INR XX,XXX format for market capitalization\n",
    "\n",
    "//Integer format for the number of shares to purchase\n",
    " \n",
    "    "
   ]
  },
  {
   "cell_type": "code",
   "execution_count": 23,
   "metadata": {},
   "outputs": [],
   "source": [
    "background_color = '#0a0a23'\n",
    "font_color = '#ffffff'\n",
    "\n",
    "string_format = writer.book.add_format(\n",
    "        {\n",
    "            'font_color': font_color,\n",
    "            'bg_color': background_color,\n",
    "            'border': 1\n",
    "        }\n",
    "    )\n",
    "\n",
    "inr_format = writer.book.add_format(\n",
    "        {\n",
    "            'num_format':'INR0.00',\n",
    "            'font_color': font_color,\n",
    "            'bg_color': background_color,\n",
    "            'border': 1\n",
    "        }\n",
    "    )\n",
    "\n",
    "integer_format = writer.book.add_format(\n",
    "        {\n",
    "            'num_format':'0',\n",
    "            'font_color': font_color,\n",
    "            'bg_color': background_color,\n",
    "            'border': 1\n",
    "        }\n",
    "    )"
   ]
  },
  {
   "cell_type": "markdown",
   "metadata": {},
   "source": [
    "Applying the Formats to the Columns of Our .xlsx File\n",
    "We can use the set_column method applied to the writer.sheets['Recommended Trades'] object to apply formats to specific columns of our spreadsheets.\n",
    "\n",
    "Here's an example:\n",
    "\n",
    "writer.sheets['Recommended Trades'].set_column('B:B', #This tells the method to apply the format to column B\n",
    "                     18, #This tells the method to apply a column width of 18 pixels\n",
    "                     string_format #This applies the format 'string_format' to the column\n",
    "                    )"
   ]
  },
  {
   "cell_type": "code",
   "execution_count": 25,
   "metadata": {},
   "outputs": [],
   "source": [
    "column_formats = { \n",
    "                    'A': ['Ticker', string_format],\n",
    "                    'B': ['Price', inr_format],\n",
    "                    'C': ['Market Capitalization', inr_format],\n",
    "                    'D': ['Number of Shares to Buy', integer_format]\n",
    "                    }\n",
    "\n",
    "for column in column_formats.keys():\n",
    "    writer.sheets['Recommended Trades'].set_column(f'{column}:{column}', 20, column_formats[column][1])\n",
    "    writer.sheets['Recommended Trades'].write(f'{column}1', column_formats[column][0], string_format)"
   ]
  },
  {
   "cell_type": "markdown",
   "metadata": {},
   "source": [
    "**Saving our Excel file is very easy:**"
   ]
  },
  {
   "cell_type": "code",
   "execution_count": 26,
   "metadata": {},
   "outputs": [],
   "source": [
    "writer.save()"
   ]
  },
  {
   "cell_type": "code",
   "execution_count": null,
   "metadata": {},
   "outputs": [],
   "source": []
  }
 ],
 "metadata": {
  "kernelspec": {
   "display_name": "Python 3",
   "language": "python",
   "name": "python3"
  },
  "language_info": {
   "codemirror_mode": {
    "name": "ipython",
    "version": 3
   },
   "file_extension": ".py",
   "mimetype": "text/x-python",
   "name": "python",
   "nbconvert_exporter": "python",
   "pygments_lexer": "ipython3",
   "version": "3.7.4"
  }
 },
 "nbformat": 4,
 "nbformat_minor": 2
}
